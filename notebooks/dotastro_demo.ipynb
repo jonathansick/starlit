{
 "metadata": {
  "name": "",
  "signature": "sha256:960870231fc27bf4f946768dd011f7fdb6f4b47acc651243561e985b98c50a24"
 },
 "nbformat": 3,
 "nbformat_minor": 0,
 "worksheets": [
  {
   "cells": [
    {
     "cell_type": "code",
     "collapsed": false,
     "input": [
      "from starlit.bib.bibtexdb import BibTexDB\n",
      "from starlit.bib.adsdb import ADSBibDB\n",
      "from starlit.bib.adscache import ADSCacheDB"
     ],
     "language": "python",
     "metadata": {},
     "outputs": [],
     "prompt_number": 1
    },
    {
     "cell_type": "code",
     "collapsed": false,
     "input": [
      "from paperweight.document import FilesystemTexDocument"
     ],
     "language": "python",
     "metadata": {},
     "outputs": [],
     "prompt_number": 2
    },
    {
     "cell_type": "code",
     "collapsed": false,
     "input": [
      "doc = FilesystemTexDocument(\"skysub.tex\", recursive=False)"
     ],
     "language": "python",
     "metadata": {},
     "outputs": [],
     "prompt_number": 3
    },
    {
     "cell_type": "code",
     "collapsed": false,
     "input": [
      "doc.bib_path"
     ],
     "language": "python",
     "metadata": {},
     "outputs": [
      {
       "metadata": {},
       "output_type": "pyout",
       "prompt_number": 4,
       "text": [
        "'/Users/jsick/Library/texmf/bibtex/bib/master.bib'"
       ]
      }
     ],
     "prompt_number": 4
    },
    {
     "cell_type": "code",
     "collapsed": false,
     "input": [
      "rich_refs = doc.rich_bib_keys\n",
      "print len(rich_refs)"
     ],
     "language": "python",
     "metadata": {},
     "outputs": [
      {
       "output_type": "stream",
       "stream": "stdout",
       "text": [
        "45\n"
       ]
      }
     ],
     "prompt_number": 5
    },
    {
     "cell_type": "code",
     "collapsed": false,
     "input": [
      "print(rich_refs.keys())"
     ],
     "language": "python",
     "metadata": {},
     "outputs": [
      {
       "output_type": "stream",
       "stream": "stdout",
       "text": [
        "[u'Saglia:2010', u'Courteau:2014', u'Courteau:2011', u'Athanassoula:2006', u'Nelder:1965', u'de-Jong:1996b', u'Maraston:1998', u'Marigo:2008', u'Conroy:2010b', u'Barmby:2006', u'Pforr:2012', u'Maraston:2005', u'Maraston:2006', u'Williams:2003', u'Williams:2002', u'Bruzual:2007', u'Brown:2009a', u'Press:2007', u'Olsen:2006', u'Bertin:2002', u'McConnachie:2005', u'McConnachie:2009', u'Bertin:1996', u'Bertin:2006', u'Brown:2008', u'Adams:1996', u'Dalcanton:2012', u'Brown:2003', u'Dutton:2005', u'Sick:2013a', u'Marmo:2008', u'Massey:2006', u'Irwin:2005', u'Skrutskie:2006', u'MacArthur:2004', u'Conroy:2013', u'Ibata:2005', u'Berriman:2008', u'Kormendy:2004', u'Taylor:2011', u'Beaton:2007', u'Puget:2004', u'Brown:2006', u'Vaduvescu:2004', u'Worthey:2005']\n"
       ]
      }
     ],
     "prompt_number": 6
    },
    {
     "cell_type": "code",
     "collapsed": false,
     "input": [
      "print(rich_refs['Taylor:2011'])"
     ],
     "language": "python",
     "metadata": {},
     "outputs": [
      {
       "output_type": "stream",
       "stream": "stdout",
       "text": [
        "[{'position': 1198, 'section': (908, u'Introduction'), 'wordsbefore': u'- SED fits . This failure largely attributable inadequate stellar population synthesis recipes NIR bands naive parameterization star formation histories', 'wordsafter': u'. First , spectral energy distribution ( SED ) fitting often relies simplistic star formation history ( SFH ) parameterizations'}]\n"
       ]
      }
     ],
     "prompt_number": 7
    },
    {
     "cell_type": "code",
     "collapsed": false,
     "input": [
      "for cite_key, cites in rich_refs.iteritems():\n",
      "    print cite_key, len(cites)"
     ],
     "language": "python",
     "metadata": {},
     "outputs": [
      {
       "output_type": "stream",
       "stream": "stdout",
       "text": [
        "Saglia:2010 1\n",
        "Courteau:2014 2\n",
        "Courteau:2011 1\n",
        "Athanassoula:2006 1\n",
        "Nelder:1965 1\n",
        "de-Jong:1996b 1\n",
        "Maraston:1998 1\n",
        "Marigo:2008 1\n",
        "Conroy:2010b 1\n",
        "Barmby:2006 6\n",
        "Pforr:2012 1\n",
        "Maraston:2005 1\n",
        "Maraston:2006 1\n",
        "Williams:2003 1\n",
        "Williams:2002 1\n",
        "Bruzual:2007 1\n",
        "Brown:2009a 1\n",
        "Press:2007 1\n",
        "Olsen:2006 1\n",
        "Bertin:2002 1\n",
        "McConnachie:2005 1\n",
        "McConnachie:2009 1\n",
        "Bertin:1996 2\n",
        "Bertin:2006 1\n",
        "Brown:2008 1\n",
        "Adams:1996 4\n",
        "Dalcanton:2012 2\n",
        "Brown:2003 1\n",
        "Dutton:2005 1\n",
        "Sick:2013a 1\n",
        "Marmo:2008 1\n",
        "Massey:2006 1\n",
        "Irwin:2005 1\n",
        "Skrutskie:2006 2\n",
        "MacArthur:2004 1\n",
        "Conroy:2013 1\n",
        "Ibata:2005 1\n",
        "Berriman:2008 2\n",
        "Kormendy:2004 1\n",
        "Taylor:2011 1\n",
        "Beaton:2007 2\n",
        "Puget:2004 2\n",
        "Brown:2006 1\n",
        "Vaduvescu:2004 7\n",
        "Worthey:2005 1\n"
       ]
      }
     ],
     "prompt_number": 8
    },
    {
     "cell_type": "code",
     "collapsed": false,
     "input": [
      "cachedb = ADSCacheDB(host='localhost', port=27017, ads_db=ADSBibDB())\n",
      "adsdb = ADSBibDB(cache=cachedb)\n",
      "bibdb = BibTexDB(doc.bib_path, ads_cache=cachedb)"
     ],
     "language": "python",
     "metadata": {},
     "outputs": [
      {
       "output_type": "stream",
       "stream": "stderr",
       "text": [
        "WARNING:bibtexparser.bparser:Entry type periodical not standard. Not considered.\n"
       ]
      },
      {
       "output_type": "stream",
       "stream": "stderr",
       "text": [
        "WARNING:bibtexparser.bparser:Entry type periodical not standard. Not considered.\n"
       ]
      },
      {
       "output_type": "stream",
       "stream": "stderr",
       "text": [
        "WARNING:bibtexparser.bparser:Entry type electronic not standard. Not considered.\n"
       ]
      },
      {
       "output_type": "stream",
       "stream": "stderr",
       "text": [
        "WARNING:bibtexparser.bparser:Entry type electronic not standard. Not considered.\n"
       ]
      },
      {
       "output_type": "stream",
       "stream": "stderr",
       "text": [
        "WARNING:bibtexparser.bparser:Entry type electronic not standard. Not considered.\n"
       ]
      },
      {
       "output_type": "stream",
       "stream": "stderr",
       "text": [
        "WARNING:bibtexparser.bparser:Entry type link not standard. Not considered.\n"
       ]
      },
      {
       "output_type": "stream",
       "stream": "stderr",
       "text": [
        "WARNING:bibtexparser.bparser:Entry type electronic not standard. Not considered.\n"
       ]
      },
      {
       "output_type": "stream",
       "stream": "stderr",
       "text": [
        "WARNING:bibtexparser.bparser:Entry type electronic not standard. Not considered.\n"
       ]
      },
      {
       "output_type": "stream",
       "stream": "stderr",
       "text": [
        "WARNING:bibtexparser.bparser:Entry type webpage not standard. Not considered.\n"
       ]
      }
     ],
     "prompt_number": 9
    },
    {
     "cell_type": "code",
     "collapsed": false,
     "input": [
      "pub = bibdb['Vaduvescu:2004']\n",
      "print(pub.authors)\n",
      "print(pub.title)\n",
      "print(pub.bibcode)\n",
      "print(pub.abstract)"
     ],
     "language": "python",
     "metadata": {},
     "outputs": [
      {
       "output_type": "stream",
       "stream": "stdout",
       "text": [
        "[(u'Vaduvescu', u'O.'), (u'McCall', u'M.~L.')]\n",
        "Strategies for Imaging Faint Extended Sources in the Near-Infrared\n",
        "2004PASP..116..640V\n",
        "Quantitative information about variations in the background at J and K' are presented and used to develop guidelines for the acquisition and reduction of ground-based images of faint extended sources in the near-infrared, especially those that occupy a significant fraction of the field of view of a detector or that are located in areas crowded with foreground or background sources. Findings are based primarily on data acquired over three photometric nights with the 3.6m\u221a\u00f33.6m CFHT-IR array on the Canada-France-Hawaii Telescope (CFHT) atop Mauna Kea. Although some results are specific to CFHT, overall conclusions should be useful in guiding observing and reduction strategies of extended objects elsewhere. During the run, the mean brightness of the background (more than 70% of which was from the sky) varied significantly on a very short timescale: by 0.7% per minute in J and 0.5% per minute in K', on average. Changes in the optical depth of the sky were partly responsible, because stars faded as the background level increased. A changing pattern in the background was evident from differences of consecutive pairs of frames (0.3% per minute in J and 0.2% per minute in K'), but this originated primarily in the instrumentation. Any pattern over 3.6m associated with the atmosphere changed at a rate less than about 0.06% per minute in K' relative to the signal from the sky alone. To measure the background to a precision of 1% per frame, exposures of extended targets should be alternated with identical exposures of the background. In J and K', target and sky exposures ought to be separated by no more than 90 and 130 s, respectively. To observe a target larger than about 40% of the field of view, background samples ought to be taken with the target shifted completely out of the field. For smaller targets, gains in efficiency can be made by shifting the target to a different place on the array. The signal-to-noise ratio of the reduced image of a target is maximized by evaluating the background for each individual image using only the samples taken immediately before and after. Provided background images are dithered, it is possible to recognize and remove celestial contaminants through differencing.\n"
       ]
      }
     ],
     "prompt_number": 10
    },
    {
     "cell_type": "code",
     "collapsed": false,
     "input": [
      "secondary_ref_pubs = pub.references\n",
      "print(len(secondary_ref_pubs))"
     ],
     "language": "python",
     "metadata": {},
     "outputs": [
      {
       "output_type": "stream",
       "stream": "stdout",
       "text": [
        "Getting ADSPub for 2004PASP..116..640V\n",
        "9"
       ]
      },
      {
       "output_type": "stream",
       "stream": "stdout",
       "text": [
        "\n"
       ]
      }
     ],
     "prompt_number": 11
    },
    {
     "cell_type": "code",
     "collapsed": false,
     "input": [
      "for secondary_ref_pub in secondary_ref_pubs:\n",
      "    print(secondary_ref_pub.bibcode)\n",
      "    print(secondary_ref_pub.authors)\n",
      "    print(secondary_ref_pub.title)\n",
      "    print(\"\")"
     ],
     "language": "python",
     "metadata": {},
     "outputs": [
      {
       "output_type": "stream",
       "stream": "stdout",
       "text": [
        "2001A&A...372...29G\n",
        "[(u'Gavazzi', u'G.'), (u'Zibetti', u'S.'), (u'Boselli', u'A.'), (u'Franzetti', u'P.'), (u'Scodeggio', u'M.'), (u'Martocchi', u'S.')]\n",
        "1.65 \u03bcm (H-band) surface photometry of galaxies. VII. Dwarf galaxies in the Virgo Cluster\n",
        "\n",
        "2000AJ....119.2118G\n",
        "[(u'Galaz', u'Gaspar')]\n",
        "E+A Galaxies in the Near-Infrared: Broadband Photometry\n",
        "\n",
        "2000AJ....119..748D\n",
        "[(u'Davidge', u'T. J.')]\n",
        "Near-Infrared Adaptive Optics Imaging of the Central Regions of Nearby SC Galaxies. I. M33\n",
        "\n",
        "1999PASP..111.1444M\n",
        "[(u'Melnick', u'J.'), (u'Selman', u'F.'), (u'Quintana', u'H.')]\n",
        "Sky Subtraction for Deep Surface Photometry of the Intergalactic Light from Clusters of Galaxies\n",
        "\n",
        "1999A&A...351..869F\n",
        "[(u'Fioc', u'Michel'), (u'Rocca-Volmerange', u'Brigitte')]\n",
        "A statistical study of nearby galaxies. I. NIR growth curves and optical-to-NIR colors as a function of type, luminosity and inclination\n",
        "\n",
        "2014IJCA...98l..17G\n",
        "[(u'G', u'Manjunath.'), (u'R', u'Murali.'), (u'A', u'Girisha.')]\n",
        "Hamiltonian Laceability in Line Graphs\n",
        "\n",
        "1997A&AS..121..507B\n",
        "[(u'Boselli', u'A.'), (u'Tuffs', u'R. J.'), (u'Gavazzi', u'G.'), (u'Hippelein', u'H.'), (u'Pierini', u'D.')]\n",
        "Near infrared surface photometry of late-type Virgo cluster galaxies\n",
        "\n",
        "1996PASP..108..718N\n",
        "[(u'Nguyen', u'H. T.'), (u'Rauscher', u'Bernard J.'), (u'Severson', u'Scott A.'), (u'Hereld', u'Mark'), (u'Harper', u'D. A.'), (u'Lowenstein', u'R. F.'), (u'Morozek', u'F.'), (u'Pernic', u'R. J.')]\n",
        "The South Pole Near Infrared Sky Brightness\n",
        "\n",
        "1992AJ....103..332W\n",
        "[(u'Wainscoat', u'Richard J.'), (u'Cowie', u'Lennox L.')]\n",
        "A Filter for Deep Near-Infrared Imaging\n",
        "\n"
       ]
      }
     ],
     "prompt_number": 12
    },
    {
     "cell_type": "code",
     "collapsed": false,
     "input": [],
     "language": "python",
     "metadata": {},
     "outputs": []
    }
   ],
   "metadata": {}
  }
 ]
}