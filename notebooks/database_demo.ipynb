{
 "metadata": {
  "name": "",
  "signature": "sha256:c20c20cb7b24816053d19d0ecb5bc952b9b89b9d261ac2d71de4e5f6aff8ec23"
 },
 "nbformat": 3,
 "nbformat_minor": 0,
 "worksheets": [
  {
   "cells": [
    {
     "cell_type": "code",
     "collapsed": false,
     "input": [
      "from starlit.bib.bibtexdb import BibTexDB\n",
      "from starlit.bib.adsdb import ADSBibDB\n",
      "from starlit.bib.adscache import ADSCacheDB"
     ],
     "language": "python",
     "metadata": {},
     "outputs": [],
     "prompt_number": 1
    },
    {
     "cell_type": "code",
     "collapsed": false,
     "input": [
      "bibdb = BibTexDB(\"/Users/jsick/Dropbox/Papers/master.bib\")"
     ],
     "language": "python",
     "metadata": {},
     "outputs": [
      {
       "output_type": "stream",
       "stream": "stderr",
       "text": [
        "WARNING:bibtexparser.bparser:Entry type periodical not standard. Not considered.\n"
       ]
      },
      {
       "output_type": "stream",
       "stream": "stderr",
       "text": [
        "WARNING:bibtexparser.bparser:Entry type periodical not standard. Not considered.\n"
       ]
      },
      {
       "output_type": "stream",
       "stream": "stderr",
       "text": [
        "WARNING:bibtexparser.bparser:Entry type electronic not standard. Not considered.\n"
       ]
      },
      {
       "output_type": "stream",
       "stream": "stderr",
       "text": [
        "WARNING:bibtexparser.bparser:Entry type electronic not standard. Not considered.\n"
       ]
      },
      {
       "output_type": "stream",
       "stream": "stderr",
       "text": [
        "WARNING:bibtexparser.bparser:Entry type electronic not standard. Not considered.\n"
       ]
      },
      {
       "output_type": "stream",
       "stream": "stderr",
       "text": [
        "WARNING:bibtexparser.bparser:Entry type link not standard. Not considered.\n"
       ]
      },
      {
       "output_type": "stream",
       "stream": "stderr",
       "text": [
        "WARNING:bibtexparser.bparser:Entry type electronic not standard. Not considered.\n"
       ]
      },
      {
       "output_type": "stream",
       "stream": "stderr",
       "text": [
        "WARNING:bibtexparser.bparser:Entry type electronic not standard. Not considered.\n"
       ]
      },
      {
       "output_type": "stream",
       "stream": "stderr",
       "text": [
        "WARNING:bibtexparser.bparser:Entry type webpage not standard. Not considered.\n"
       ]
      }
     ],
     "prompt_number": 2
    },
    {
     "cell_type": "code",
     "collapsed": false,
     "input": [
      "cachedb = ADSCacheDB(host='localhost', port=27017)"
     ],
     "language": "python",
     "metadata": {},
     "outputs": [],
     "prompt_number": 3
    },
    {
     "cell_type": "code",
     "collapsed": false,
     "input": [
      "uncached_adsdb = ADSBibDB()"
     ],
     "language": "python",
     "metadata": {},
     "outputs": [],
     "prompt_number": 4
    },
    {
     "cell_type": "code",
     "collapsed": false,
     "input": [
      "adsdb = ADSBibDB(cache=cachedb)"
     ],
     "language": "python",
     "metadata": {},
     "outputs": [],
     "prompt_number": 5
    },
    {
     "cell_type": "code",
     "collapsed": false,
     "input": [
      "sick_pub = bibdb['Sick:2014']\n",
      "sick_pub.reference_bibcodes"
     ],
     "language": "python",
     "metadata": {},
     "outputs": [
      {
       "metadata": {},
       "output_type": "pyout",
       "prompt_number": 12,
       "text": [
        "[u'2014ASPC..480...39S',\n",
        " u'2014RvMP...86...47C',\n",
        " u'2013ARA&A..51..393C',\n",
        " u'2012ApJS..200...18D',\n",
        " u'2012MNRAS.422.3285P',\n",
        " u'2011MNRAS.418.1587T',\n",
        " u'2011ApJ...739...20C',\n",
        " u'2010ApJ...712..833C',\n",
        " u'2010A&A...509A..61S',\n",
        " u'2009ApJS..184..152B',\n",
        " u'2009Natur.461...66M',\n",
        " u'2008ApJ...685L.121B',\n",
        " u'2008ASPC..394...83B',\n",
        " u'2008ASPC..394..619M',\n",
        " u'2008A&A...482..883M',\n",
        " u'2007IAUS..241..125B',\n",
        " u'2007ApJ...658L..91B',\n",
        " u'2006ApJ...652...85M',\n",
        " u'2006ApJ...652..323B',\n",
        " u'2006ApJ...650L..45B',\n",
        " u'2006MNRAS.370.1499A',\n",
        " u'2006AJ....132..271O',\n",
        " u'2006ASPC..351..112B',\n",
        " u'2006AJ....131.2478M',\n",
        " u'2006AJ....131.1163S',\n",
        " u'2005ApJ...634..287I',\n",
        " u'2005ApJ...631..820W',\n",
        " u'2005MNRAS.362..799M',\n",
        " u'2005ApJ...628L.105I',\n",
        " u'2005ApJ...619..218D',\n",
        " u'2005MNRAS.356..979M',\n",
        " u'2004SPIE.5492..978P',\n",
        " u'2004ARA&A..42..603K',\n",
        " u'2004PASP..116..640V',\n",
        " u'2004ApJS..152..175M',\n",
        " u'2003AJ....126.1312W',\n",
        " u'2003ApJ...592L..17B',\n",
        " u'2002MNRAS.331..293W',\n",
        " u'2002ASPC..281..228B',\n",
        " u'1998MNRAS.300..872M',\n",
        " u'1996A&AS..117..393B',\n",
        " u'1996A&A...313..377D']"
       ]
      }
     ],
     "prompt_number": 12
    },
    {
     "cell_type": "code",
     "collapsed": false,
     "input": [
      "sick_ads_pub_1 = uncached_adsdb[sick_pub.bibcode]\n",
      "print(sick_ads_pub_1)\n",
      "print(sick_ads_pub_1.citation_bibcodes)\n",
      "print(sick_ads_pub_1.reference_bibcodes)"
     ],
     "language": "python",
     "metadata": {},
     "outputs": [
      {
       "output_type": "stream",
       "stream": "stdout",
       "text": [
        "<starlit.bib.adsdb.ADSPub object at 0x1096d5050>\n",
        "[u'2014A&A...567A..71V', u'2014ASPC..480...39S', u'2014ApJS..210....4M']"
       ]
      },
      {
       "output_type": "stream",
       "stream": "stdout",
       "text": [
        "\n",
        "[u'2014ASPC..480...39S', u'2014RvMP...86...47C', u'2013ARA&A..51..393C', u'2012ApJS..200...18D', u'2012MNRAS.422.3285P', u'2011MNRAS.418.1587T', u'2011ApJ...739...20C', u'2010ApJ...712..833C', u'2010A&A...509A..61S', u'2009ApJS..184..152B', u'2009Natur.461...66M', u'2008ApJ...685L.121B', u'2008ASPC..394...83B', u'2008ASPC..394..619M', u'2008A&A...482..883M', u'2007IAUS..241..125B', u'2007ApJ...658L..91B', u'2006ApJ...652...85M', u'2006ApJ...652..323B', u'2006ApJ...650L..45B', u'2006MNRAS.370.1499A', u'2006AJ....132..271O', u'2006ASPC..351..112B', u'2006AJ....131.2478M', u'2006AJ....131.1163S', u'2005ApJ...634..287I', u'2005ApJ...631..820W', u'2005MNRAS.362..799M', u'2005ApJ...628L.105I', u'2005ApJ...619..218D', u'2005MNRAS.356..979M', u'2004SPIE.5492..978P', u'2004ARA&A..42..603K', u'2004PASP..116..640V', u'2004ApJS..152..175M', u'2003AJ....126.1312W', u'2003ApJ...592L..17B', u'2002MNRAS.331..293W', u'2002ASPC..281..228B', u'1998MNRAS.300..872M', u'1996A&AS..117..393B', u'1996A&A...313..377D']"
       ]
      },
      {
       "output_type": "stream",
       "stream": "stdout",
       "text": [
        "\n"
       ]
      }
     ],
     "prompt_number": 8
    },
    {
     "cell_type": "code",
     "collapsed": false,
     "input": [
      "sick_ads_pub = adsdb[sick_pub.bibcode]\n",
      "print(sick_ads_pub)"
     ],
     "language": "python",
     "metadata": {},
     "outputs": [
      {
       "output_type": "stream",
       "stream": "stdout",
       "text": [
        "<starlit.bib.adscache.CachePub object at 0x1096d51d0>\n"
       ]
      }
     ],
     "prompt_number": 10
    },
    {
     "cell_type": "code",
     "collapsed": false,
     "input": [
      "pub = adsdb['2011MNRAS.418.1587T']\n",
      "pub.abstract"
     ],
     "language": "python",
     "metadata": {},
     "outputs": [
      {
       "metadata": {},
       "output_type": "pyout",
       "prompt_number": 14,
       "text": [
        "u\"This paper describes the first catalogue of photometrically derived stellar mass estimates for intermediate-redshift (z < 0.65; median z= 0.2) galaxies in the Galaxy And Mass Assembly (GAMA) spectroscopic redshift survey. These masses, as well as the full set of ancillary stellar population parameters, will be made public as part of GAMA data release 2. Although the GAMA database does include near-infrared (NIR) photometry, we show that the quality of our stellar population synthesis fits is significantly poorer when these NIR data are included. Further, for a large fraction of galaxies, the stellar population parameters inferred from the optical-plus-NIR photometry are formally inconsistent with those inferred from the optical data alone. This may indicate problems in our stellar population library, or NIR data issues, or both; these issues will be addressed for future versions of the catalogue. For now, we have chosen to base our stellar mass estimates on optical photometry only. In light of our decision to ignore the available NIR data, we examine how well stellar mass can be constrained based on optical data alone. We use generic properties of stellar population synthesis models to demonstrate that restframe colour alone is in principle a very good estimator of stellar mass-to-light ratio, M<SUB>*</SUB>/L<SUB>i</SUB>. Further, we use the observed relation between restframe (g-i) and M<SUB>*</SUB>/L<SUB>i</SUB> for real GAMA galaxies to argue that, modulo uncertainties in the stellar evolution models themselves, (g-i) colour can in practice be used to estimate M<SUB>*</SUB>/L<SUB>i</SUB> to an accuracy of \\u22720.1 dex (1\\u03c3). This 'empirically calibrated' (g-i)-M<SUB>*</SUB>/L<SUB>i</SUB> relation offers a simple and transparent means for estimating galaxies' stellar masses based on minimal data, and so provides a solid basis for other surveys to compare their results to z\\u22720.4 measurements from GAMA.\""
       ]
      }
     ],
     "prompt_number": 14
    },
    {
     "cell_type": "code",
     "collapsed": false,
     "input": [],
     "language": "python",
     "metadata": {},
     "outputs": []
    }
   ],
   "metadata": {}
  }
 ]
}