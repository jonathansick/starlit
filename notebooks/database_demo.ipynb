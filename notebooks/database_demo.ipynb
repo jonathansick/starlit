{
 "metadata": {
  "name": "",
  "signature": "sha256:bf0a8da05fa481db7572c4a832265085b2f108732dcf42fb5d2dc74c9d1aaf5b"
 },
 "nbformat": 3,
 "nbformat_minor": 0,
 "worksheets": [
  {
   "cells": [
    {
     "cell_type": "code",
     "collapsed": false,
     "input": [
      "from starlit.bib.bibtexdb import BibTexDB\n",
      "from starlit.bib.adsdb import ADSBibDB\n",
      "from starlit.bib.adscache import ADSCacheDB"
     ],
     "language": "python",
     "metadata": {},
     "outputs": [],
     "prompt_number": 4
    },
    {
     "cell_type": "code",
     "collapsed": false,
     "input": [
      "bibdb = BibTexDB(\"/Users/jsick/Dropbox/Papers/master.bib\")"
     ],
     "language": "python",
     "metadata": {},
     "outputs": [
      {
       "output_type": "stream",
       "stream": "stderr",
       "text": [
        "WARNING:bibtexparser.bparser:Entry type periodical not standard. Not considered.\n"
       ]
      },
      {
       "output_type": "stream",
       "stream": "stderr",
       "text": [
        "WARNING:bibtexparser.bparser:Entry type periodical not standard. Not considered.\n"
       ]
      },
      {
       "output_type": "stream",
       "stream": "stderr",
       "text": [
        "WARNING:bibtexparser.bparser:Entry type electronic not standard. Not considered.\n"
       ]
      },
      {
       "output_type": "stream",
       "stream": "stderr",
       "text": [
        "WARNING:bibtexparser.bparser:Entry type electronic not standard. Not considered.\n"
       ]
      },
      {
       "output_type": "stream",
       "stream": "stderr",
       "text": [
        "WARNING:bibtexparser.bparser:Entry type electronic not standard. Not considered.\n"
       ]
      },
      {
       "output_type": "stream",
       "stream": "stderr",
       "text": [
        "WARNING:bibtexparser.bparser:Entry type link not standard. Not considered.\n"
       ]
      },
      {
       "output_type": "stream",
       "stream": "stderr",
       "text": [
        "WARNING:bibtexparser.bparser:Entry type electronic not standard. Not considered.\n"
       ]
      },
      {
       "output_type": "stream",
       "stream": "stderr",
       "text": [
        "WARNING:bibtexparser.bparser:Entry type electronic not standard. Not considered.\n"
       ]
      },
      {
       "output_type": "stream",
       "stream": "stderr",
       "text": [
        "WARNING:bibtexparser.bparser:Entry type webpage not standard. Not considered.\n"
       ]
      }
     ],
     "prompt_number": 5
    },
    {
     "cell_type": "code",
     "collapsed": false,
     "input": [
      "cachedb = ADSCacheDB(host='localhost', port=27017, ads_db=ADSBibDB())"
     ],
     "language": "python",
     "metadata": {},
     "outputs": [],
     "prompt_number": 19
    },
    {
     "cell_type": "code",
     "collapsed": false,
     "input": [
      "uncached_adsdb = ADSBibDB()"
     ],
     "language": "python",
     "metadata": {},
     "outputs": [],
     "prompt_number": 20
    },
    {
     "cell_type": "code",
     "collapsed": false,
     "input": [
      "adsdb = ADSBibDB(cache=cachedb)"
     ],
     "language": "python",
     "metadata": {},
     "outputs": [],
     "prompt_number": 21
    },
    {
     "cell_type": "code",
     "collapsed": false,
     "input": [
      "sick_pub = bibdb['Sick:2014']\n",
      "sick_pub.reference_bibcodes"
     ],
     "language": "python",
     "metadata": {},
     "outputs": [
      {
       "metadata": {},
       "output_type": "pyout",
       "prompt_number": 22,
       "text": [
        "[u'2014ASPC..480...39S',\n",
        " u'2014RvMP...86...47C',\n",
        " u'2013ARA&A..51..393C',\n",
        " u'2012ApJS..200...18D',\n",
        " u'2012MNRAS.422.3285P',\n",
        " u'2011MNRAS.418.1587T',\n",
        " u'2011ApJ...739...20C',\n",
        " u'2010ApJ...712..833C',\n",
        " u'2010A&A...509A..61S',\n",
        " u'2009ApJS..184..152B',\n",
        " u'2009Natur.461...66M',\n",
        " u'2008ApJ...685L.121B',\n",
        " u'2008ASPC..394...83B',\n",
        " u'2008ASPC..394..619M',\n",
        " u'2008A&A...482..883M',\n",
        " u'2007IAUS..241..125B',\n",
        " u'2007ApJ...658L..91B',\n",
        " u'2006ApJ...652...85M',\n",
        " u'2006ApJ...652..323B',\n",
        " u'2006ApJ...650L..45B',\n",
        " u'2006MNRAS.370.1499A',\n",
        " u'2006AJ....132..271O',\n",
        " u'2006ASPC..351..112B',\n",
        " u'2006AJ....131.2478M',\n",
        " u'2006AJ....131.1163S',\n",
        " u'2005ApJ...634..287I',\n",
        " u'2005ApJ...631..820W',\n",
        " u'2005MNRAS.362..799M',\n",
        " u'2005ApJ...628L.105I',\n",
        " u'2005ApJ...619..218D',\n",
        " u'2005MNRAS.356..979M',\n",
        " u'2004SPIE.5492..978P',\n",
        " u'2004ARA&A..42..603K',\n",
        " u'2004PASP..116..640V',\n",
        " u'2004ApJS..152..175M',\n",
        " u'2003AJ....126.1312W',\n",
        " u'2003ApJ...592L..17B',\n",
        " u'2002MNRAS.331..293W',\n",
        " u'2002ASPC..281..228B',\n",
        " u'1998MNRAS.300..872M',\n",
        " u'1996A&AS..117..393B',\n",
        " u'1996A&A...313..377D']"
       ]
      }
     ],
     "prompt_number": 22
    },
    {
     "cell_type": "code",
     "collapsed": false,
     "input": [
      "sick_ads_pub_1 = uncached_adsdb[sick_pub.bibcode]\n",
      "print(sick_ads_pub_1)\n",
      "print(sick_ads_pub_1.citation_bibcodes)\n",
      "print(sick_ads_pub_1.reference_bibcodes)"
     ],
     "language": "python",
     "metadata": {},
     "outputs": [
      {
       "output_type": "stream",
       "stream": "stdout",
       "text": [
        "<starlit.bib.adsdb.ADSPub object at 0x105edc350>\n",
        "[u'2014A&A...567A..71V', u'2014ASPC..480...39S', u'2014ApJS..210....4M']"
       ]
      },
      {
       "output_type": "stream",
       "stream": "stdout",
       "text": [
        "\n",
        "[u'2014ASPC..480...39S', u'2014RvMP...86...47C', u'2013ARA&A..51..393C', u'2012ApJS..200...18D', u'2012MNRAS.422.3285P', u'2011MNRAS.418.1587T', u'2011ApJ...739...20C', u'2010ApJ...712..833C', u'2010A&A...509A..61S', u'2009ApJS..184..152B', u'2009Natur.461...66M', u'2008ApJ...685L.121B', u'2008ASPC..394...83B', u'2008ASPC..394..619M', u'2008A&A...482..883M', u'2007IAUS..241..125B', u'2007ApJ...658L..91B', u'2006ApJ...652...85M', u'2006ApJ...652..323B', u'2006ApJ...650L..45B', u'2006MNRAS.370.1499A', u'2006AJ....132..271O', u'2006ASPC..351..112B', u'2006AJ....131.2478M', u'2006AJ....131.1163S', u'2005ApJ...634..287I', u'2005ApJ...631..820W', u'2005MNRAS.362..799M', u'2005ApJ...628L.105I', u'2005ApJ...619..218D', u'2005MNRAS.356..979M', u'2004SPIE.5492..978P', u'2004ARA&A..42..603K', u'2004PASP..116..640V', u'2004ApJS..152..175M', u'2003AJ....126.1312W', u'2003ApJ...592L..17B', u'2002MNRAS.331..293W', u'2002ASPC..281..228B', u'1998MNRAS.300..872M', u'1996A&AS..117..393B', u'1996A&A...313..377D']"
       ]
      },
      {
       "output_type": "stream",
       "stream": "stdout",
       "text": [
        "\n"
       ]
      }
     ],
     "prompt_number": 23
    },
    {
     "cell_type": "code",
     "collapsed": false,
     "input": [
      "sick_ads_pub = adsdb[sick_pub.bibcode]\n",
      "print(sick_ads_pub)"
     ],
     "language": "python",
     "metadata": {},
     "outputs": [
      {
       "output_type": "stream",
       "stream": "stdout",
       "text": [
        "<starlit.bib.adscache.CachePub object at 0x105a7d110>\n"
       ]
      }
     ],
     "prompt_number": 24
    },
    {
     "cell_type": "code",
     "collapsed": false,
     "input": [
      "pub = adsdb['2011MNRAS.418.1587T']\n",
      "print(pub._ads_db is None)\n",
      "print(pub)\n",
      "print(pub.abstract)\n",
      "print(pub.title)\n",
      "print(pub.references)"
     ],
     "language": "python",
     "metadata": {},
     "outputs": [
      {
       "output_type": "stream",
       "stream": "stdout",
       "text": [
        "False\n",
        "<starlit.bib.adscache.CachePub object at 0x104afa290>\n",
        "This paper describes the first catalogue of photometrically derived stellar mass estimates for intermediate-redshift (z < 0.65; median z= 0.2) galaxies in the Galaxy And Mass Assembly (GAMA) spectroscopic redshift survey. These masses, as well as the full set of ancillary stellar population parameters, will be made public as part of GAMA data release 2. Although the GAMA database does include near-infrared (NIR) photometry, we show that the quality of our stellar population synthesis fits is significantly poorer when these NIR data are included. Further, for a large fraction of galaxies, the stellar population parameters inferred from the optical-plus-NIR photometry are formally inconsistent with those inferred from the optical data alone. This may indicate problems in our stellar population library, or NIR data issues, or both; these issues will be addressed for future versions of the catalogue. For now, we have chosen to base our stellar mass estimates on optical photometry only. In light of our decision to ignore the available NIR data, we examine how well stellar mass can be constrained based on optical data alone. We use generic properties of stellar population synthesis models to demonstrate that restframe colour alone is in principle a very good estimator of stellar mass-to-light ratio, M<SUB>*</SUB>/L<SUB>i</SUB>. Further, we use the observed relation between restframe (g-i) and M<SUB>*</SUB>/L<SUB>i</SUB> for real GAMA galaxies to argue that, modulo uncertainties in the stellar evolution models themselves, (g-i) colour can in practice be used to estimate M<SUB>*</SUB>/L<SUB>i</SUB> to an accuracy of \u22720.1 dex (1\u03c3). This 'empirically calibrated' (g-i)-M<SUB>*</SUB>/L<SUB>i</SUB> relation offers a simple and transparent means for estimating galaxies' stellar masses based on minimal data, and so provides a solid basis for other surveys to compare their results to z\u22720.4 measurements from GAMA.\n",
        "Galaxy And Mass Assembly (GAMA): stellar mass estimates\n",
        "[<starlit.bib.adsdb.ADSPub object at 0x105a7d550>, <starlit.bib.adsdb.ADSPub object at 0x105e29e90>, <starlit.bib.adsdb.ADSPub object at 0x105ab7310>, <starlit.bib.adsdb.ADSPub object at 0x105ab7f90>, <starlit.bib.adsdb.ADSPub object at 0x105d41f10>, <starlit.bib.adsdb.ADSPub object at 0x105d56c90>, <starlit.bib.adsdb.ADSPub object at 0x105d6ea10>, <starlit.bib.adsdb.ADSPub object at 0x10545a510>, <starlit.bib.adsdb.ADSPub object at 0x105469550>, <starlit.bib.adsdb.ADSPub object at 0x105478550>, <starlit.bib.adsdb.ADSPub object at 0x105478c90>, <starlit.bib.adsdb.ADSPub object at 0x10548d990>, <starlit.bib.adsdb.ADSPub object at 0x105b82690>, <starlit.bib.adsdb.ADSPub object at 0x105b96910>, <starlit.bib.adsdb.ADSPub object at 0x105ba40d0>, <starlit.bib.adsdb.ADSPub object at 0x105ba4d90>, <starlit.bib.adsdb.ADSPub object at 0x105bb7dd0>, <starlit.bib.adsdb.ADSPub object at 0x105d087d0>, <starlit.bib.adsdb.ADSPub object at 0x105d1e4d0>, <starlit.bib.adsdb.ADSPub object at 0x105d2b450>, <starlit.bib.adsdb.ADSPub object at 0x105d2bf10>, <starlit.bib.adsdb.ADSPub object at 0x105cbcc10>, <starlit.bib.adsdb.ADSPub object at 0x105cd3910>, <starlit.bib.adsdb.ADSPub object at 0x105ce5b90>, <starlit.bib.adsdb.ADSPub object at 0x105cf4350>, <starlit.bib.adsdb.ADSPub object at 0x105b435d0>, <starlit.bib.adsdb.ADSPub object at 0x105b43d10>, <starlit.bib.adsdb.ADSPub object at 0x105b55d50>, <starlit.bib.adsdb.ADSPub object at 0x105b747d0>, <starlit.bib.adsdb.ADSPub object at 0x1059c24d0>, <starlit.bib.adsdb.ADSPub object at 0x1059d01d0>, <starlit.bib.adsdb.ADSPub object at 0x1059d0e90>, <starlit.bib.adsdb.ADSPub object at 0x1059e4b90>, <starlit.bib.adsdb.ADSPub object at 0x1059f4890>, <starlit.bib.adsdb.ADSPub object at 0x105c07590>, <starlit.bib.adsdb.ADSPub object at 0x105c17810>, <starlit.bib.adsdb.ADSPub object at 0x105c17f90>, <starlit.bib.adsdb.ADSPub object at 0x105c2fc90>, <starlit.bib.adsdb.ADSPub object at 0x105dbd990>, <starlit.bib.adsdb.ADSPub object at 0x105dd5910>, <starlit.bib.adsdb.ADSPub object at 0x105de7410>, <starlit.bib.adsdb.ADSPub object at 0x105df5110>, <starlit.bib.adsdb.ADSPub object at 0x105c46450>, <starlit.bib.adsdb.ADSPub object at 0x105c46c50>, <starlit.bib.adsdb.ADSPub object at 0x105c5c950>, <starlit.bib.adsdb.ADSPub object at 0x105c70650>, <starlit.bib.adsdb.ADSPub object at 0x105d7f350>, <starlit.bib.adsdb.ADSPub object at 0x105d90050>, <starlit.bib.adsdb.ADSPub object at 0x105d9d2d0>, <starlit.bib.adsdb.ADSPub object at 0x105d9da90>, <starlit.bib.adsdb.ADSPub object at 0x105dae790>, <starlit.bib.adsdb.ADSPub object at 0x105a42490>, <starlit.bib.adsdb.ADSPub object at 0x105a51190>, <starlit.bib.adsdb.ADSPub object at 0x105a51e50>, <starlit.bib.adsdb.ADSPub object at 0x105a61b50>, <starlit.bib.adsdb.ADSPub object at 0x105a73850>, <starlit.bib.adsdb.ADSPub object at 0x105ac8550>, <starlit.bib.adsdb.ADSPub object at 0x105ad47d0>, <starlit.bib.adsdb.ADSPub object at 0x105ae5510>, <starlit.bib.adsdb.ADSPub object at 0x105ae5c50>, <starlit.bib.adsdb.ADSPub object at 0x105af4bd0>, <starlit.bib.adsdb.ADSPub object at 0x105b046d0>, <starlit.bib.adsdb.ADSPub object at 0x105b1a3d0>, <starlit.bib.adsdb.ADSPub object at 0x105b2e0d0>, <starlit.bib.adsdb.ADSPub object at 0x105b2ed90>, <starlit.bib.adsdb.ADSPub object at 0x105bbda90>, <starlit.bib.adsdb.ADSPub object at 0x105bced10>, <starlit.bib.adsdb.ADSPub object at 0x105bde4d0>, <starlit.bib.adsdb.ADSPub object at 0x105bee1d0>, <starlit.bib.adsdb.ADSPub object at 0x105beee90>, <starlit.bib.adsdb.ADSPub object at 0x105c7de10>, <starlit.bib.adsdb.ADSPub object at 0x105c90b90>, <starlit.bib.adsdb.ADSPub object at 0x105ca4690>, <starlit.bib.adsdb.ADSPub object at 0x105cb7610>, <starlit.bib.adsdb.ADSPub object at 0x1069a2090>, <starlit.bib.adsdb.ADSPub object at 0x1069a2d50>, <starlit.bib.adsdb.ADSPub object at 0x1069200d0>, <starlit.bib.adsdb.ADSPub object at 0x106920750>, <starlit.bib.adsdb.ADSPub object at 0x106924450>, <starlit.bib.adsdb.ADSPub object at 0x106930150>, <starlit.bib.adsdb.ADSPub object at 0x106930e10>, <starlit.bib.adsdb.ADSPub object at 0x106945b10>, <starlit.bib.adsdb.ADSPub object at 0x106953810>, <starlit.bib.adsdb.ADSPub object at 0x106962790>, <starlit.bib.adsdb.ADSPub object at 0x106972210>, <starlit.bib.adsdb.ADSPub object at 0x106981490>, <starlit.bib.adsdb.ADSPub object at 0x106981f50>, <starlit.bib.adsdb.ADSPub object at 0x10698d950>, <starlit.bib.adsdb.ADSPub object at 0x107a0a990>, <starlit.bib.adsdb.ADSPub object at 0x107a19350>, <starlit.bib.adsdb.ADSPub object at 0x107a2c050>, <starlit.bib.adsdb.ADSPub object at 0x107a3b2d0>, <starlit.bib.adsdb.ADSPub object at 0x107a3ba90>, <starlit.bib.adsdb.ADSPub object at 0x107a4c790>, <starlit.bib.adsdb.ADSPub object at 0x107a5d490>, <starlit.bib.adsdb.ADSPub object at 0x107a6b190>, <starlit.bib.adsdb.ADSPub object at 0x107a6be50>, <starlit.bib.adsdb.ADSPub object at 0x107a7bb50>, <starlit.bib.adsdb.ADSPub object at 0x107a8de10>, <starlit.bib.adsdb.ADSPub object at 0x107a9d650>, <starlit.bib.adsdb.ADSPub object at 0x107aae350>, <starlit.bib.adsdb.ADSPub object at 0x107ac02d0>, <starlit.bib.adsdb.ADSPub object at 0x107ac0d90>, <starlit.bib.adsdb.ADSPub object at 0x107ad1a90>, <starlit.bib.adsdb.ADSPub object at 0x107ae0790>, <starlit.bib.adsdb.ADSPub object at 0x107af1710>, <starlit.bib.adsdb.ADSPub object at 0x123450210>, <starlit.bib.adsdb.ADSPub object at 0x123450ed0>, <starlit.bib.adsdb.ADSPub object at 0x123461bd0>]"
       ]
      },
      {
       "output_type": "stream",
       "stream": "stdout",
       "text": [
        "\n"
       ]
      }
     ],
     "prompt_number": 25
    },
    {
     "cell_type": "code",
     "collapsed": false,
     "input": [],
     "language": "python",
     "metadata": {},
     "outputs": []
    }
   ],
   "metadata": {}
  }
 ]
}